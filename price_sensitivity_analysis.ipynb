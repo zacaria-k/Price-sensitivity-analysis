{
 "cells": [
  {
   "cell_type": "markdown",
   "id": "103f16bc",
   "metadata": {},
   "source": [
    "## Project: Price Sensitivity Analysis for Tech Products — French Online Store\n",
    "\n",
    "This project focuses on analyzing **sales and pricing data** from a French online tech store.  \n",
    "The goal is to understand **price sensitivity**, identify **best-selling models**, and uncover **pricing strategies** that maximize revenue.  \n",
    "\n",
    "### Key objectives:  \n",
    "- Analyze sales distribution across **price bins**.  \n",
    "- Evaluate **elasticity of demand** for different products.  \n",
    "- Provide actionable insights on **optimal pricing ranges** and revenue optimization.  \n"
   ]
  },
  {
   "cell_type": "code",
   "execution_count": 1,
   "id": "66cce375",
   "metadata": {},
   "outputs": [],
   "source": [
    "import pandas as pd "
   ]
  },
  {
   "cell_type": "code",
   "execution_count": 2,
   "id": "c8b39eaf",
   "metadata": {},
   "outputs": [],
   "source": [
    "df = pd.read_csv(r'c:\\Users\\pc\\Desktop\\Desk Folders\\Data Science\\DSAIS 2023-2024\\Projects\\CertiDeal DS Mission\\data\\certideal_orders_data_2_years_France.csv')"
   ]
  },
  {
   "cell_type": "code",
   "execution_count": 3,
   "id": "241957ae",
   "metadata": {},
   "outputs": [
    {
     "data": {
      "application/vnd.microsoft.datawrangler.viewer.v0+json": {
       "columns": [
        {
         "name": "index",
         "rawType": "int64",
         "type": "integer"
        },
        {
         "name": "Unnamed: 0",
         "rawType": "int64",
         "type": "integer"
        },
        {
         "name": "id_order",
         "rawType": "int64",
         "type": "integer"
        },
        {
         "name": "Order Detail",
         "rawType": "int64",
         "type": "integer"
        },
        {
         "name": "Product Name",
         "rawType": "object",
         "type": "string"
        },
        {
         "name": "price",
         "rawType": "object",
         "type": "string"
        },
        {
         "name": "Grade",
         "rawType": "object",
         "type": "unknown"
        },
        {
         "name": "Date",
         "rawType": "object",
         "type": "string"
        },
        {
         "name": "Customer",
         "rawType": "object",
         "type": "string"
        }
       ],
       "ref": "cceee502-b59d-46b5-bff0-94214d053837",
       "rows": [
        [
         "0",
         "0",
         "403735",
         "598020",
         "iPhone 8 64 Go Gris sidéral",
         "128,63 €",
         "Correct",
         "2022-04-30 23:50:36",
         "a5ec0747e94e2e9821ef21dc44a0deff"
        ],
        [
         "1",
         "1",
         "403734",
         "598019",
         "iPhone 8 64 Go Gris sidéral",
         "128,63 €",
         "Correct",
         "2022-04-30 23:49:49",
         "7012ae5374deca856d604023ae7a3a77"
        ],
        [
         "2",
         "2",
         "403732",
         "598017",
         "iPhone XR 64 Go Noir ",
         "241,36 €",
         "Correct",
         "2022-04-30 23:42:53",
         "367eee4f3ad73fbc15d5c1858c76c9da"
        ],
        [
         "3",
         "3",
         "403731",
         "598015",
         "iPhone 6S Plus 128 Go Gris sidéral ",
         "204,90 €",
         "Parfait état",
         "2022-04-30 23:39:19",
         "47063f7d92240e867f39c96450011148"
        ],
        [
         "4",
         "4",
         "403731",
         "598016",
         "Pack Zen (PROMO -10€)",
         "24,90 €",
         null,
         "2022-04-30 23:39:19",
         "47063f7d92240e867f39c96450011148"
        ]
       ],
       "shape": {
        "columns": 8,
        "rows": 5
       }
      },
      "text/html": [
       "<div>\n",
       "<style scoped>\n",
       "    .dataframe tbody tr th:only-of-type {\n",
       "        vertical-align: middle;\n",
       "    }\n",
       "\n",
       "    .dataframe tbody tr th {\n",
       "        vertical-align: top;\n",
       "    }\n",
       "\n",
       "    .dataframe thead th {\n",
       "        text-align: right;\n",
       "    }\n",
       "</style>\n",
       "<table border=\"1\" class=\"dataframe\">\n",
       "  <thead>\n",
       "    <tr style=\"text-align: right;\">\n",
       "      <th></th>\n",
       "      <th>Unnamed: 0</th>\n",
       "      <th>id_order</th>\n",
       "      <th>Order Detail</th>\n",
       "      <th>Product Name</th>\n",
       "      <th>price</th>\n",
       "      <th>Grade</th>\n",
       "      <th>Date</th>\n",
       "      <th>Customer</th>\n",
       "    </tr>\n",
       "  </thead>\n",
       "  <tbody>\n",
       "    <tr>\n",
       "      <th>0</th>\n",
       "      <td>0</td>\n",
       "      <td>403735</td>\n",
       "      <td>598020</td>\n",
       "      <td>iPhone 8 64 Go Gris sidéral</td>\n",
       "      <td>128,63 €</td>\n",
       "      <td>Correct</td>\n",
       "      <td>2022-04-30 23:50:36</td>\n",
       "      <td>a5ec0747e94e2e9821ef21dc44a0deff</td>\n",
       "    </tr>\n",
       "    <tr>\n",
       "      <th>1</th>\n",
       "      <td>1</td>\n",
       "      <td>403734</td>\n",
       "      <td>598019</td>\n",
       "      <td>iPhone 8 64 Go Gris sidéral</td>\n",
       "      <td>128,63 €</td>\n",
       "      <td>Correct</td>\n",
       "      <td>2022-04-30 23:49:49</td>\n",
       "      <td>7012ae5374deca856d604023ae7a3a77</td>\n",
       "    </tr>\n",
       "    <tr>\n",
       "      <th>2</th>\n",
       "      <td>2</td>\n",
       "      <td>403732</td>\n",
       "      <td>598017</td>\n",
       "      <td>iPhone XR 64 Go Noir</td>\n",
       "      <td>241,36 €</td>\n",
       "      <td>Correct</td>\n",
       "      <td>2022-04-30 23:42:53</td>\n",
       "      <td>367eee4f3ad73fbc15d5c1858c76c9da</td>\n",
       "    </tr>\n",
       "    <tr>\n",
       "      <th>3</th>\n",
       "      <td>3</td>\n",
       "      <td>403731</td>\n",
       "      <td>598015</td>\n",
       "      <td>iPhone 6S Plus 128 Go Gris sidéral</td>\n",
       "      <td>204,90 €</td>\n",
       "      <td>Parfait état</td>\n",
       "      <td>2022-04-30 23:39:19</td>\n",
       "      <td>47063f7d92240e867f39c96450011148</td>\n",
       "    </tr>\n",
       "    <tr>\n",
       "      <th>4</th>\n",
       "      <td>4</td>\n",
       "      <td>403731</td>\n",
       "      <td>598016</td>\n",
       "      <td>Pack Zen (PROMO -10€)</td>\n",
       "      <td>24,90 €</td>\n",
       "      <td>NaN</td>\n",
       "      <td>2022-04-30 23:39:19</td>\n",
       "      <td>47063f7d92240e867f39c96450011148</td>\n",
       "    </tr>\n",
       "  </tbody>\n",
       "</table>\n",
       "</div>"
      ],
      "text/plain": [
       "   Unnamed: 0  id_order  Order Detail                         Product Name  \\\n",
       "0           0    403735        598020          iPhone 8 64 Go Gris sidéral   \n",
       "1           1    403734        598019          iPhone 8 64 Go Gris sidéral   \n",
       "2           2    403732        598017                iPhone XR 64 Go Noir    \n",
       "3           3    403731        598015  iPhone 6S Plus 128 Go Gris sidéral    \n",
       "4           4    403731        598016                Pack Zen (PROMO -10€)   \n",
       "\n",
       "      price         Grade                 Date  \\\n",
       "0  128,63 €       Correct  2022-04-30 23:50:36   \n",
       "1  128,63 €       Correct  2022-04-30 23:49:49   \n",
       "2  241,36 €       Correct  2022-04-30 23:42:53   \n",
       "3  204,90 €  Parfait état  2022-04-30 23:39:19   \n",
       "4   24,90 €           NaN  2022-04-30 23:39:19   \n",
       "\n",
       "                           Customer  \n",
       "0  a5ec0747e94e2e9821ef21dc44a0deff  \n",
       "1  7012ae5374deca856d604023ae7a3a77  \n",
       "2  367eee4f3ad73fbc15d5c1858c76c9da  \n",
       "3  47063f7d92240e867f39c96450011148  \n",
       "4  47063f7d92240e867f39c96450011148  "
      ]
     },
     "execution_count": 3,
     "metadata": {},
     "output_type": "execute_result"
    }
   ],
   "source": [
    "df.head()"
   ]
  },
  {
   "cell_type": "code",
   "execution_count": 4,
   "id": "48678e33",
   "metadata": {},
   "outputs": [],
   "source": [
    "df = df.drop(columns=['Unnamed: 0'])"
   ]
  },
  {
   "cell_type": "code",
   "execution_count": 5,
   "id": "c178c604",
   "metadata": {},
   "outputs": [
    {
     "name": "stdout",
     "output_type": "stream",
     "text": [
      "<class 'pandas.core.frame.DataFrame'>\n",
      "RangeIndex: 487678 entries, 0 to 487677\n",
      "Data columns (total 7 columns):\n",
      " #   Column        Non-Null Count   Dtype \n",
      "---  ------        --------------   ----- \n",
      " 0   id_order      487678 non-null  int64 \n",
      " 1   Order Detail  487678 non-null  int64 \n",
      " 2   Product Name  487678 non-null  object\n",
      " 3   price         487678 non-null  object\n",
      " 4   Grade         282754 non-null  object\n",
      " 5   Date          487678 non-null  object\n",
      " 6   Customer      487678 non-null  object\n",
      "dtypes: int64(2), object(5)\n",
      "memory usage: 26.0+ MB\n"
     ]
    }
   ],
   "source": [
    "df.info()"
   ]
  },
  {
   "cell_type": "code",
   "execution_count": 6,
   "id": "bdb6fe2d",
   "metadata": {},
   "outputs": [
    {
     "data": {
      "application/vnd.microsoft.datawrangler.viewer.v0+json": {
       "columns": [
        {
         "name": "index",
         "rawType": "int64",
         "type": "integer"
        },
        {
         "name": "id_order",
         "rawType": "int64",
         "type": "integer"
        },
        {
         "name": "Order Detail",
         "rawType": "int64",
         "type": "integer"
        },
        {
         "name": "Product Name",
         "rawType": "object",
         "type": "string"
        },
        {
         "name": "price",
         "rawType": "object",
         "type": "string"
        },
        {
         "name": "Grade",
         "rawType": "object",
         "type": "unknown"
        },
        {
         "name": "Date",
         "rawType": "object",
         "type": "string"
        },
        {
         "name": "Customer",
         "rawType": "object",
         "type": "string"
        }
       ],
       "ref": "3e8dccda-1f1b-441f-b25e-4dce361eb387",
       "rows": [
        [
         "0",
         "403735",
         "598020",
         "iPhone 8 64 Go Gris sidéral",
         "128,63 €",
         "Correct",
         "2022-04-30 23:50:36",
         "a5ec0747e94e2e9821ef21dc44a0deff"
        ],
        [
         "1",
         "403734",
         "598019",
         "iPhone 8 64 Go Gris sidéral",
         "128,63 €",
         "Correct",
         "2022-04-30 23:49:49",
         "7012ae5374deca856d604023ae7a3a77"
        ],
        [
         "2",
         "403732",
         "598017",
         "iPhone XR 64 Go Noir ",
         "241,36 €",
         "Correct",
         "2022-04-30 23:42:53",
         "367eee4f3ad73fbc15d5c1858c76c9da"
        ],
        [
         "3",
         "403731",
         "598015",
         "iPhone 6S Plus 128 Go Gris sidéral ",
         "204,90 €",
         "Parfait état",
         "2022-04-30 23:39:19",
         "47063f7d92240e867f39c96450011148"
        ],
        [
         "4",
         "403731",
         "598016",
         "Pack Zen (PROMO -10€)",
         "24,90 €",
         null,
         "2022-04-30 23:39:19",
         "47063f7d92240e867f39c96450011148"
        ],
        [
         "5",
         "403729",
         "598011",
         "iPhone XS 256 Go Gris sidéral ",
         "348,00 €",
         "Premium",
         "2022-04-30 23:27:33",
         "dbddc6151e4d450915fa3b1c82f5c421"
        ],
        [
         "6",
         "403729",
         "598012",
         "Pack Zen (PROMO -10€)",
         "24,90 €",
         null,
         "2022-04-30 23:27:33",
         "dbddc6151e4d450915fa3b1c82f5c421"
        ],
        [
         "7",
         "403729",
         "598013",
         "Chargeur Rapide 20W iPhone + cable USBC (PROMO -10€)",
         "24,90 €",
         null,
         "2022-04-30 23:27:33",
         "dbddc6151e4d450915fa3b1c82f5c421"
        ],
        [
         "8",
         "403729",
         "605781",
         "Ecouteurs Lightning",
         "0,00 €",
         null,
         "2022-04-30 23:27:33",
         "dbddc6151e4d450915fa3b1c82f5c421"
        ],
        [
         "9",
         "403728",
         "598010",
         "iPhone XR 64 Go Corail ",
         "272,58 €",
         "Parfait état",
         "2022-04-30 23:23:44",
         "753135f36d3deab2584f70692c386620"
        ],
        [
         "10",
         "403727",
         "598009",
         "iPhone 12 128 Go Bleu",
         "630,06 €",
         "Parfait état",
         "2022-04-30 23:22:39",
         "da665136710c3d9260dcef61a5840369"
        ],
        [
         "11",
         "403726",
         "598008",
         "iPhone XR 64 Go Rouge ",
         "261,82 €",
         "Parfait état",
         "2022-04-30 23:21:28",
         "a380761ce40de5a0780dde87dbec83a6"
        ],
        [
         "12",
         "403723",
         "598003",
         "iPhone XR 64 Go Noir ",
         "269,50 €",
         "Premium",
         "2022-04-30 22:58:03",
         "5aabfff0a6de6713ef51d2d99bb47872"
        ],
        [
         "13",
         "403722",
         "598001",
         "iPhone 8 64 Go Gris sidéral",
         "128,63 €",
         "Correct",
         "2022-04-30 22:48:48",
         "392d66245bbd6e5721b6fc8c808f5935"
        ],
        [
         "14",
         "403722",
         "598002",
         "Vitre en verre trempé posée",
         "12,99 €",
         null,
         "2022-04-30 22:48:48",
         "392d66245bbd6e5721b6fc8c808f5935"
        ],
        [
         "15",
         "403721",
         "597998",
         "iPhone 8 64 Go Argent ",
         "177,00 €",
         "Premium",
         "2022-04-30 22:45:57",
         "506924ca5fd07257d0c032330b341551"
        ],
        [
         "16",
         "403721",
         "597999",
         "Pack Premium",
         "25,00 €",
         null,
         "2022-04-30 22:45:57",
         "506924ca5fd07257d0c032330b341551"
        ],
        [
         "17",
         "403721",
         "598000",
         "Pack Zen (PROMO -10€)",
         "24,90 €",
         null,
         "2022-04-30 22:45:57",
         "506924ca5fd07257d0c032330b341551"
        ],
        [
         "18",
         "403720",
         "597997",
         "iPhone 8 Plus 64 Go Or ",
         "238,43 €",
         "Premium",
         "2022-04-30 22:45:00",
         "da822d3852d97924f619fba55009f227"
        ],
        [
         "19",
         "403718",
         "597994",
         "iPhone XS 64 Go Gris sidéral ",
         "280,50 €",
         "Parfait état",
         "2022-04-30 22:36:20",
         "ff26c13f93968be5c6376c5b01a0be7e"
        ],
        [
         "20",
         "403717",
         "597993",
         "iPhone X 64 Go Argent ",
         "265,00 €",
         "Premium",
         "2022-04-30 22:33:43",
         "97a17cd67ff9c22640a8b97c0538c54f"
        ],
        [
         "21",
         "403716",
         "597992",
         "iPhone 8 64 Go Or ",
         "174,75 €",
         "Premium",
         "2022-04-30 22:29:24",
         "8ee57d2d561609342a65c95ac2363077"
        ],
        [
         "22",
         "403715",
         "597989",
         "iPhone SE 2020 64 Go Noir",
         "262,09 €",
         "Premium",
         "2022-04-30 22:23:33",
         "862289986c5461d04adccac706773d12"
        ],
        [
         "23",
         "403715",
         "597990",
         "Pack Zen (PROMO -10€)",
         "24,90 €",
         null,
         "2022-04-30 22:23:33",
         "862289986c5461d04adccac706773d12"
        ],
        [
         "24",
         "403715",
         "597991",
         "Chargeur Rapide 20W iPhone + cable USBC (PROMO -10€)",
         "24,90 €",
         null,
         "2022-04-30 22:23:33",
         "862289986c5461d04adccac706773d12"
        ],
        [
         "25",
         "403714",
         "597988",
         "iPhone 7 256 Go Or Rose ",
         "141,42 €",
         "Correct",
         "2022-04-30 22:23:21",
         "658ff105287a15576ffd1f7021c45946"
        ],
        [
         "26",
         "403713",
         "597987",
         "iPhone 8 64 Go Gris sidéral",
         "128,63 €",
         "Correct",
         "2022-04-30 22:16:38",
         "8efdd9b922363a7f501e2c3a7ac3d3f2"
        ],
        [
         "27",
         "403712",
         "597985",
         "iPhone XR 64 Go Noir ",
         "259,14 €",
         "Parfait état",
         "2022-04-30 22:11:23",
         "764535a76c2ebf4cc204245cb3734fd9"
        ],
        [
         "28",
         "403712",
         "597986",
         "Pack Zen (PROMO -10€)",
         "24,90 €",
         null,
         "2022-04-30 22:11:23",
         "764535a76c2ebf4cc204245cb3734fd9"
        ],
        [
         "29",
         "403711",
         "597984",
         "iPhone X 64 Go Argent ",
         "226,70 €",
         "Correct",
         "2022-04-30 22:10:54",
         "9a99c386edc0eaea1d21cae279d4b999"
        ],
        [
         "30",
         "403710",
         "597981",
         "iPhone SE 2020 128 Go Blanc",
         "242,00 €",
         "Correct",
         "2022-04-30 22:07:39",
         "f4d99608161bb975bcd9d66dd737c14b"
        ],
        [
         "31",
         "403710",
         "597982",
         "Pack Premium",
         "25,00 €",
         null,
         "2022-04-30 22:07:39",
         "f4d99608161bb975bcd9d66dd737c14b"
        ],
        [
         "32",
         "403710",
         "597983",
         "Chargeur Rapide 20W iPhone + cable USBC (PROMO -10€)",
         "24,90 €",
         null,
         "2022-04-30 22:07:39",
         "f4d99608161bb975bcd9d66dd737c14b"
        ],
        [
         "33",
         "403709",
         "597979",
         "iPhone 11 64 Go Rouge ",
         "372,00 €",
         "Parfait état",
         "2022-04-30 22:06:08",
         "3f0ade6f8a5ce69991139aab718342de"
        ],
        [
         "34",
         "403709",
         "597980",
         "Pack Zen (PROMO -10€)",
         "24,90 €",
         null,
         "2022-04-30 22:06:08",
         "3f0ade6f8a5ce69991139aab718342de"
        ],
        [
         "35",
         "403708",
         "597978",
         "iPhone 8 64 Go Gris sidéral",
         "128,63 €",
         "Correct",
         "2022-04-30 22:03:02",
         "ac9b42a262391b5d73ea0af2a66bd26a"
        ],
        [
         "36",
         "403707",
         "597976",
         "iPhone 7 128 Go Noir ",
         "111,74 €",
         "Correct",
         "2022-04-30 22:02:49",
         "a50900aefc9d44d0c778462f14d8ea73"
        ],
        [
         "37",
         "403707",
         "597977",
         "Pack Zen (PROMO -10€)",
         "24,90 €",
         null,
         "2022-04-30 22:02:49",
         "a50900aefc9d44d0c778462f14d8ea73"
        ],
        [
         "38",
         "403706",
         "597973",
         "iPhone 8 64 Go Or ",
         "174,75 €",
         "Premium",
         "2022-04-30 22:01:25",
         "c56d7744cb6ab6db83fe9ea63c33f169"
        ],
        [
         "39",
         "403706",
         "597974",
         "Pack Premium",
         "25,00 €",
         null,
         "2022-04-30 22:01:25",
         "c56d7744cb6ab6db83fe9ea63c33f169"
        ],
        [
         "40",
         "403706",
         "597975",
         "Pack Zen (PROMO -10€)",
         "24,90 €",
         null,
         "2022-04-30 22:01:25",
         "c56d7744cb6ab6db83fe9ea63c33f169"
        ],
        [
         "41",
         "403704",
         "597969",
         "iPhone 11 128 Go Rouge ",
         "438,41 €",
         "Parfait état",
         "2022-04-30 21:37:09",
         "dd1ea73f7869d51dc4b279b20406456e"
        ],
        [
         "42",
         "403704",
         "597970",
         "Chargeur Rapide 20W iPhone + cable USBC (PROMO -10€)",
         "24,90 €",
         null,
         "2022-04-30 21:37:09",
         "dd1ea73f7869d51dc4b279b20406456e"
        ],
        [
         "43",
         "403704",
         "597971",
         "Pack Premium",
         "29,00 €",
         null,
         "2022-04-30 21:37:09",
         "dd1ea73f7869d51dc4b279b20406456e"
        ],
        [
         "44",
         "403703",
         "597968",
         "iPhone 7 32 Go Noir ",
         "105,42 €",
         "Parfait état",
         "2022-04-30 21:35:59",
         "429ae7850149376a9a09ecf74d0a74b0"
        ],
        [
         "45",
         "403702",
         "597965",
         "Pack Zen (PROMO -10€)",
         "24,90 €",
         null,
         "2022-04-30 21:32:02",
         "ab31d65ba6edd67d4770dd87142f5c72"
        ],
        [
         "46",
         "403702",
         "597966",
         "iphone 11 pro 64 Go Vert",
         "492,19 €",
         "Premium",
         "2022-04-30 21:32:02",
         "ab31d65ba6edd67d4770dd87142f5c72"
        ],
        [
         "47",
         "403702",
         "597967",
         "Pack Premium",
         "29,00 €",
         null,
         "2022-04-30 21:32:02",
         "ab31d65ba6edd67d4770dd87142f5c72"
        ],
        [
         "48",
         "403701",
         "597963",
         "iPhone 11 64 Go Mauve ",
         "370,50 €",
         "Correct",
         "2022-04-30 21:29:56",
         "35de515ff2c1703b1c1f546092e73c0f"
        ],
        [
         "49",
         "403701",
         "597964",
         "Pack Premium",
         "29,00 €",
         null,
         "2022-04-30 21:29:56",
         "35de515ff2c1703b1c1f546092e73c0f"
        ]
       ],
       "shape": {
        "columns": 7,
        "rows": 487678
       }
      },
      "text/html": [
       "<div>\n",
       "<style scoped>\n",
       "    .dataframe tbody tr th:only-of-type {\n",
       "        vertical-align: middle;\n",
       "    }\n",
       "\n",
       "    .dataframe tbody tr th {\n",
       "        vertical-align: top;\n",
       "    }\n",
       "\n",
       "    .dataframe thead th {\n",
       "        text-align: right;\n",
       "    }\n",
       "</style>\n",
       "<table border=\"1\" class=\"dataframe\">\n",
       "  <thead>\n",
       "    <tr style=\"text-align: right;\">\n",
       "      <th></th>\n",
       "      <th>id_order</th>\n",
       "      <th>Order Detail</th>\n",
       "      <th>Product Name</th>\n",
       "      <th>price</th>\n",
       "      <th>Grade</th>\n",
       "      <th>Date</th>\n",
       "      <th>Customer</th>\n",
       "    </tr>\n",
       "  </thead>\n",
       "  <tbody>\n",
       "    <tr>\n",
       "      <th>0</th>\n",
       "      <td>403735</td>\n",
       "      <td>598020</td>\n",
       "      <td>iPhone 8 64 Go Gris sidéral</td>\n",
       "      <td>128,63 €</td>\n",
       "      <td>Correct</td>\n",
       "      <td>2022-04-30 23:50:36</td>\n",
       "      <td>a5ec0747e94e2e9821ef21dc44a0deff</td>\n",
       "    </tr>\n",
       "    <tr>\n",
       "      <th>1</th>\n",
       "      <td>403734</td>\n",
       "      <td>598019</td>\n",
       "      <td>iPhone 8 64 Go Gris sidéral</td>\n",
       "      <td>128,63 €</td>\n",
       "      <td>Correct</td>\n",
       "      <td>2022-04-30 23:49:49</td>\n",
       "      <td>7012ae5374deca856d604023ae7a3a77</td>\n",
       "    </tr>\n",
       "    <tr>\n",
       "      <th>2</th>\n",
       "      <td>403732</td>\n",
       "      <td>598017</td>\n",
       "      <td>iPhone XR 64 Go Noir</td>\n",
       "      <td>241,36 €</td>\n",
       "      <td>Correct</td>\n",
       "      <td>2022-04-30 23:42:53</td>\n",
       "      <td>367eee4f3ad73fbc15d5c1858c76c9da</td>\n",
       "    </tr>\n",
       "    <tr>\n",
       "      <th>3</th>\n",
       "      <td>403731</td>\n",
       "      <td>598015</td>\n",
       "      <td>iPhone 6S Plus 128 Go Gris sidéral</td>\n",
       "      <td>204,90 €</td>\n",
       "      <td>Parfait état</td>\n",
       "      <td>2022-04-30 23:39:19</td>\n",
       "      <td>47063f7d92240e867f39c96450011148</td>\n",
       "    </tr>\n",
       "    <tr>\n",
       "      <th>4</th>\n",
       "      <td>403731</td>\n",
       "      <td>598016</td>\n",
       "      <td>Pack Zen (PROMO -10€)</td>\n",
       "      <td>24,90 €</td>\n",
       "      <td>NaN</td>\n",
       "      <td>2022-04-30 23:39:19</td>\n",
       "      <td>47063f7d92240e867f39c96450011148</td>\n",
       "    </tr>\n",
       "    <tr>\n",
       "      <th>...</th>\n",
       "      <td>...</td>\n",
       "      <td>...</td>\n",
       "      <td>...</td>\n",
       "      <td>...</td>\n",
       "      <td>...</td>\n",
       "      <td>...</td>\n",
       "      <td>...</td>\n",
       "    </tr>\n",
       "    <tr>\n",
       "      <th>487673</th>\n",
       "      <td>684890</td>\n",
       "      <td>1117694</td>\n",
       "      <td>iPhone 11 64 Go Noir</td>\n",
       "      <td>256,66 €</td>\n",
       "      <td>Correct</td>\n",
       "      <td>2023-09-01 00:10:59</td>\n",
       "      <td>f3cc158058db5cf6f3390b2fa510fcdf</td>\n",
       "    </tr>\n",
       "    <tr>\n",
       "      <th>487674</th>\n",
       "      <td>684890</td>\n",
       "      <td>1117695</td>\n",
       "      <td>Batterie neuve</td>\n",
       "      <td>24,17 €</td>\n",
       "      <td>NaN</td>\n",
       "      <td>2023-09-01 00:10:59</td>\n",
       "      <td>f3cc158058db5cf6f3390b2fa510fcdf</td>\n",
       "    </tr>\n",
       "    <tr>\n",
       "      <th>487675</th>\n",
       "      <td>684890</td>\n",
       "      <td>1117696</td>\n",
       "      <td>Pack Zen Plus (OFFERT)</td>\n",
       "      <td>0,00 €</td>\n",
       "      <td>NaN</td>\n",
       "      <td>2023-09-01 00:10:59</td>\n",
       "      <td>f3cc158058db5cf6f3390b2fa510fcdf</td>\n",
       "    </tr>\n",
       "    <tr>\n",
       "      <th>487676</th>\n",
       "      <td>684889</td>\n",
       "      <td>1117693</td>\n",
       "      <td>iPhone 11 128 Go Mauve</td>\n",
       "      <td>314,16 €</td>\n",
       "      <td>Parfait état</td>\n",
       "      <td>2023-09-01 00:05:53</td>\n",
       "      <td>83499ca246bf5c95cbdfded263609abe</td>\n",
       "    </tr>\n",
       "    <tr>\n",
       "      <th>487677</th>\n",
       "      <td>684888</td>\n",
       "      <td>1117692</td>\n",
       "      <td>iPhone 12 mini 128 Go Vert</td>\n",
       "      <td>294,16 €</td>\n",
       "      <td>Correct</td>\n",
       "      <td>2023-09-01 00:02:53</td>\n",
       "      <td>189f0458dd14526c023dbef3476d61f3</td>\n",
       "    </tr>\n",
       "  </tbody>\n",
       "</table>\n",
       "<p>487678 rows × 7 columns</p>\n",
       "</div>"
      ],
      "text/plain": [
       "        id_order  Order Detail                         Product Name     price  \\\n",
       "0         403735        598020          iPhone 8 64 Go Gris sidéral  128,63 €   \n",
       "1         403734        598019          iPhone 8 64 Go Gris sidéral  128,63 €   \n",
       "2         403732        598017                iPhone XR 64 Go Noir   241,36 €   \n",
       "3         403731        598015  iPhone 6S Plus 128 Go Gris sidéral   204,90 €   \n",
       "4         403731        598016                Pack Zen (PROMO -10€)   24,90 €   \n",
       "...          ...           ...                                  ...       ...   \n",
       "487673    684890       1117694                iPhone 11 64 Go Noir   256,66 €   \n",
       "487674    684890       1117695                       Batterie neuve   24,17 €   \n",
       "487675    684890       1117696               Pack Zen Plus (OFFERT)    0,00 €   \n",
       "487676    684889       1117693              iPhone 11 128 Go Mauve   314,16 €   \n",
       "487677    684888       1117692           iPhone 12 mini 128 Go Vert  294,16 €   \n",
       "\n",
       "               Grade                 Date                          Customer  \n",
       "0            Correct  2022-04-30 23:50:36  a5ec0747e94e2e9821ef21dc44a0deff  \n",
       "1            Correct  2022-04-30 23:49:49  7012ae5374deca856d604023ae7a3a77  \n",
       "2            Correct  2022-04-30 23:42:53  367eee4f3ad73fbc15d5c1858c76c9da  \n",
       "3       Parfait état  2022-04-30 23:39:19  47063f7d92240e867f39c96450011148  \n",
       "4                NaN  2022-04-30 23:39:19  47063f7d92240e867f39c96450011148  \n",
       "...              ...                  ...                               ...  \n",
       "487673       Correct  2023-09-01 00:10:59  f3cc158058db5cf6f3390b2fa510fcdf  \n",
       "487674           NaN  2023-09-01 00:10:59  f3cc158058db5cf6f3390b2fa510fcdf  \n",
       "487675           NaN  2023-09-01 00:10:59  f3cc158058db5cf6f3390b2fa510fcdf  \n",
       "487676  Parfait état  2023-09-01 00:05:53  83499ca246bf5c95cbdfded263609abe  \n",
       "487677       Correct  2023-09-01 00:02:53  189f0458dd14526c023dbef3476d61f3  \n",
       "\n",
       "[487678 rows x 7 columns]"
      ]
     },
     "metadata": {},
     "output_type": "display_data"
    }
   ],
   "source": [
    "display(df)"
   ]
  },
  {
   "cell_type": "code",
   "execution_count": 7,
   "id": "e1c9bfe0",
   "metadata": {},
   "outputs": [
    {
     "name": "stdout",
     "output_type": "stream",
     "text": [
      "393133\n"
     ]
    }
   ],
   "source": [
    "print(df['Order Detail'].nunique())"
   ]
  },
  {
   "cell_type": "code",
   "execution_count": 8,
   "id": "0f6b090e",
   "metadata": {},
   "outputs": [
    {
     "name": "stdout",
     "output_type": "stream",
     "text": [
      "224231\n"
     ]
    }
   ],
   "source": [
    "print(df['id_order'].nunique())"
   ]
  },
  {
   "cell_type": "code",
   "execution_count": 9,
   "id": "80c03f57",
   "metadata": {},
   "outputs": [
    {
     "data": {
      "application/vnd.microsoft.datawrangler.viewer.v0+json": {
       "columns": [
        {
         "name": "index",
         "rawType": "int64",
         "type": "integer"
        },
        {
         "name": "Order Detail",
         "rawType": "int64",
         "type": "integer"
        },
        {
         "name": "count",
         "rawType": "int64",
         "type": "integer"
        }
       ],
       "ref": "574efd1d-76ad-4ac8-afb5-5ed2e4b217b5",
       "rows": [
        [
         "196566",
         "812150",
         "2"
        ],
        [
         "152625",
         "748497",
         "2"
        ],
        [
         "152616",
         "748487",
         "2"
        ],
        [
         "152617",
         "748488",
         "2"
        ],
        [
         "152618",
         "748489",
         "2"
        ],
        [
         "152619",
         "748491",
         "2"
        ],
        [
         "152620",
         "748492",
         "2"
        ],
        [
         "152621",
         "748493",
         "2"
        ],
        [
         "152622",
         "748494",
         "2"
        ],
        [
         "152623",
         "748495",
         "2"
        ],
        [
         "152624",
         "748496",
         "2"
        ],
        [
         "152626",
         "748500",
         "2"
        ],
        [
         "152683",
         "748584",
         "2"
        ],
        [
         "152627",
         "748501",
         "2"
        ],
        [
         "152628",
         "748503",
         "2"
        ],
        [
         "152629",
         "748504",
         "2"
        ],
        [
         "152630",
         "748508",
         "2"
        ],
        [
         "152631",
         "748509",
         "2"
        ],
        [
         "152632",
         "748510",
         "2"
        ],
        [
         "152633",
         "748511",
         "2"
        ],
        [
         "152634",
         "748514",
         "2"
        ],
        [
         "152635",
         "748515",
         "2"
        ],
        [
         "152615",
         "748484",
         "2"
        ],
        [
         "152614",
         "748482",
         "2"
        ],
        [
         "152613",
         "748481",
         "2"
        ],
        [
         "152612",
         "748480",
         "2"
        ],
        [
         "152593",
         "748453",
         "2"
        ],
        [
         "152594",
         "748455",
         "2"
        ],
        [
         "152595",
         "748456",
         "2"
        ],
        [
         "152596",
         "748457",
         "2"
        ],
        [
         "152597",
         "748459",
         "2"
        ],
        [
         "152598",
         "748460",
         "2"
        ],
        [
         "152599",
         "748462",
         "2"
        ],
        [
         "152600",
         "748464",
         "2"
        ],
        [
         "152601",
         "748465",
         "2"
        ],
        [
         "152602",
         "748466",
         "2"
        ],
        [
         "152603",
         "748467",
         "2"
        ],
        [
         "152604",
         "748468",
         "2"
        ],
        [
         "152605",
         "748469",
         "2"
        ],
        [
         "152606",
         "748470",
         "2"
        ],
        [
         "152607",
         "748471",
         "2"
        ],
        [
         "152608",
         "748472",
         "2"
        ],
        [
         "152609",
         "748475",
         "2"
        ],
        [
         "152610",
         "748477",
         "2"
        ],
        [
         "152611",
         "748478",
         "2"
        ],
        [
         "152636",
         "748516",
         "2"
        ],
        [
         "152637",
         "748517",
         "2"
        ],
        [
         "152638",
         "748518",
         "2"
        ],
        [
         "152661",
         "748550",
         "2"
        ],
        [
         "152663",
         "748554",
         "2"
        ]
       ],
       "shape": {
        "columns": 2,
        "rows": 393133
       }
      },
      "text/html": [
       "<div>\n",
       "<style scoped>\n",
       "    .dataframe tbody tr th:only-of-type {\n",
       "        vertical-align: middle;\n",
       "    }\n",
       "\n",
       "    .dataframe tbody tr th {\n",
       "        vertical-align: top;\n",
       "    }\n",
       "\n",
       "    .dataframe thead th {\n",
       "        text-align: right;\n",
       "    }\n",
       "</style>\n",
       "<table border=\"1\" class=\"dataframe\">\n",
       "  <thead>\n",
       "    <tr style=\"text-align: right;\">\n",
       "      <th></th>\n",
       "      <th>Order Detail</th>\n",
       "      <th>count</th>\n",
       "    </tr>\n",
       "  </thead>\n",
       "  <tbody>\n",
       "    <tr>\n",
       "      <th>196566</th>\n",
       "      <td>812150</td>\n",
       "      <td>2</td>\n",
       "    </tr>\n",
       "    <tr>\n",
       "      <th>152625</th>\n",
       "      <td>748497</td>\n",
       "      <td>2</td>\n",
       "    </tr>\n",
       "    <tr>\n",
       "      <th>152616</th>\n",
       "      <td>748487</td>\n",
       "      <td>2</td>\n",
       "    </tr>\n",
       "    <tr>\n",
       "      <th>152617</th>\n",
       "      <td>748488</td>\n",
       "      <td>2</td>\n",
       "    </tr>\n",
       "    <tr>\n",
       "      <th>152618</th>\n",
       "      <td>748489</td>\n",
       "      <td>2</td>\n",
       "    </tr>\n",
       "    <tr>\n",
       "      <th>...</th>\n",
       "      <td>...</td>\n",
       "      <td>...</td>\n",
       "    </tr>\n",
       "    <tr>\n",
       "      <th>99529</th>\n",
       "      <td>662071</td>\n",
       "      <td>1</td>\n",
       "    </tr>\n",
       "    <tr>\n",
       "      <th>99528</th>\n",
       "      <td>662070</td>\n",
       "      <td>1</td>\n",
       "    </tr>\n",
       "    <tr>\n",
       "      <th>99527</th>\n",
       "      <td>662069</td>\n",
       "      <td>1</td>\n",
       "    </tr>\n",
       "    <tr>\n",
       "      <th>99526</th>\n",
       "      <td>662068</td>\n",
       "      <td>1</td>\n",
       "    </tr>\n",
       "    <tr>\n",
       "      <th>393132</th>\n",
       "      <td>1322668</td>\n",
       "      <td>1</td>\n",
       "    </tr>\n",
       "  </tbody>\n",
       "</table>\n",
       "<p>393133 rows × 2 columns</p>\n",
       "</div>"
      ],
      "text/plain": [
       "        Order Detail  count\n",
       "196566        812150      2\n",
       "152625        748497      2\n",
       "152616        748487      2\n",
       "152617        748488      2\n",
       "152618        748489      2\n",
       "...              ...    ...\n",
       "99529         662071      1\n",
       "99528         662070      1\n",
       "99527         662069      1\n",
       "99526         662068      1\n",
       "393132       1322668      1\n",
       "\n",
       "[393133 rows x 2 columns]"
      ]
     },
     "execution_count": 9,
     "metadata": {},
     "output_type": "execute_result"
    }
   ],
   "source": [
    "df.groupby('Order Detail').size().reset_index(name='count').sort_values(by='count', ascending=False)\n"
   ]
  },
  {
   "cell_type": "code",
   "execution_count": 10,
   "id": "4f4b621f",
   "metadata": {},
   "outputs": [],
   "source": [
    "# Order Detail column contains duplicate values"
   ]
  },
  {
   "cell_type": "code",
   "execution_count": 11,
   "id": "dd8a4370",
   "metadata": {},
   "outputs": [],
   "source": [
    "df.drop_duplicates(inplace=True)"
   ]
  },
  {
   "cell_type": "code",
   "execution_count": 12,
   "id": "f9d913be",
   "metadata": {},
   "outputs": [
    {
     "name": "stdout",
     "output_type": "stream",
     "text": [
      "<class 'pandas.core.frame.DataFrame'>\n",
      "Index: 393133 entries, 0 to 487677\n",
      "Data columns (total 7 columns):\n",
      " #   Column        Non-Null Count   Dtype \n",
      "---  ------        --------------   ----- \n",
      " 0   id_order      393133 non-null  int64 \n",
      " 1   Order Detail  393133 non-null  int64 \n",
      " 2   Product Name  393133 non-null  object\n",
      " 3   price         393133 non-null  object\n",
      " 4   Grade         228058 non-null  object\n",
      " 5   Date          393133 non-null  object\n",
      " 6   Customer      393133 non-null  object\n",
      "dtypes: int64(2), object(5)\n",
      "memory usage: 24.0+ MB\n"
     ]
    }
   ],
   "source": [
    "df.info()"
   ]
  },
  {
   "cell_type": "code",
   "execution_count": 13,
   "id": "37478378",
   "metadata": {},
   "outputs": [],
   "source": [
    "df['price'] = df['price'].str.replace(r'[^\\d,]', '', regex=True)  \n",
    "\n",
    "df['price'] = df['price'].str.replace(',', '.').astype(float) \n"
   ]
  },
  {
   "cell_type": "code",
   "execution_count": 14,
   "id": "6492fa98",
   "metadata": {},
   "outputs": [
    {
     "name": "stdout",
     "output_type": "stream",
     "text": [
      "total sales equal to 82883737.12 euros\n"
     ]
    }
   ],
   "source": [
    "# Total sales value\n",
    "\n",
    "sum_sales = df['price'].sum()\n",
    "\n",
    "print(f'total sales equal to {sum_sales} euros')"
   ]
  },
  {
   "cell_type": "code",
   "execution_count": 15,
   "id": "34135fd0",
   "metadata": {},
   "outputs": [
    {
     "data": {
      "application/vnd.microsoft.datawrangler.viewer.v0+json": {
       "columns": [
        {
         "name": "id_order",
         "rawType": "int64",
         "type": "integer"
        },
        {
         "name": "price",
         "rawType": "float64",
         "type": "float"
        }
       ],
       "ref": "18873d80-6106-4c25-bcf0-bf7ff9bd954a",
       "rows": [
        [
         "357802",
         "169.8"
        ],
        [
         "357803",
         "353.79999999999995"
        ],
        [
         "357804",
         "147.8"
        ],
        [
         "357806",
         "451.9"
        ],
        [
         "357808",
         "406.79999999999995"
        ],
        [
         "357810",
         "893.5999999999999"
        ],
        [
         "357812",
         "367.9"
        ],
        [
         "357813",
         "390.7"
        ],
        [
         "357814",
         "367.9"
        ],
        [
         "357815",
         "546.6999999999999"
        ],
        [
         "357817",
         "219.9"
        ],
        [
         "357818",
         "322.9"
        ],
        [
         "357820",
         "783.6999999999999"
        ],
        [
         "357822",
         "264.7"
        ],
        [
         "357825",
         "390.79999999999995"
        ],
        [
         "357826",
         "459.9"
        ],
        [
         "357827",
         "486.9"
        ],
        [
         "357828",
         "273.8"
        ],
        [
         "357829",
         "417.7"
        ],
        [
         "357830",
         "172.9"
        ],
        [
         "357832",
         "229.9"
        ],
        [
         "357833",
         "500.7"
        ],
        [
         "357834",
         "237.9"
        ],
        [
         "357836",
         "219.9"
        ],
        [
         "357837",
         "269.9"
        ],
        [
         "357840",
         "205.9"
        ],
        [
         "357841",
         "420.79999999999995"
        ],
        [
         "357845",
         "349.9"
        ],
        [
         "357846",
         "373.79999999999995"
        ],
        [
         "357847",
         "349.9"
        ],
        [
         "357849",
         "172.9"
        ],
        [
         "357850",
         "390.79999999999995"
        ],
        [
         "357851",
         "370.9"
        ],
        [
         "357852",
         "367.9"
        ],
        [
         "357853",
         "196.9"
        ],
        [
         "357854",
         "467.79999999999995"
        ],
        [
         "357855",
         "372.9"
        ],
        [
         "357856",
         "453.9"
        ],
        [
         "357857",
         "538.8"
        ],
        [
         "357860",
         "535.9"
        ],
        [
         "357863",
         "367.9"
        ],
        [
         "357864",
         "282.9"
        ],
        [
         "357867",
         "504.79999999999995"
        ],
        [
         "357868",
         "702.9"
        ],
        [
         "357870",
         "417.79999999999995"
        ],
        [
         "357871",
         "227.9"
        ],
        [
         "357873",
         "349.9"
        ],
        [
         "357874",
         "447.9"
        ],
        [
         "357876",
         "336.9"
        ],
        [
         "357878",
         "453.9"
        ]
       ],
       "shape": {
        "columns": 1,
        "rows": 224231
       }
      },
      "text/plain": [
       "id_order\n",
       "357802    169.80\n",
       "357803    353.80\n",
       "357804    147.80\n",
       "357806    451.90\n",
       "357808    406.80\n",
       "           ...  \n",
       "770930    279.16\n",
       "770932    440.83\n",
       "770936    383.24\n",
       "770937    588.24\n",
       "770938    518.25\n",
       "Name: price, Length: 224231, dtype: float64"
      ]
     },
     "metadata": {},
     "output_type": "display_data"
    }
   ],
   "source": [
    "# Average order amount\n",
    "\n",
    "df1 = df.groupby('id_order')['price'].sum()\n",
    "\n",
    "display(df1)\n"
   ]
  },
  {
   "cell_type": "code",
   "execution_count": 16,
   "id": "6aac0168",
   "metadata": {},
   "outputs": [],
   "source": [
    "# all rows in 'price' that are equal to 0 should be dropped\n",
    "\n",
    "df1 = df1[df1 != 0 ]"
   ]
  },
  {
   "cell_type": "code",
   "execution_count": 17,
   "id": "a0d5aa67",
   "metadata": {},
   "outputs": [
    {
     "name": "stdout",
     "output_type": "stream",
     "text": [
      "mean sales price is 369.63714543103066\n"
     ]
    }
   ],
   "source": [
    "# mean sales price \n",
    "\n",
    "print(f'mean sales price is {df1.mean()}')"
   ]
  },
  {
   "cell_type": "code",
   "execution_count": 18,
   "id": "acdf50ee",
   "metadata": {},
   "outputs": [
    {
     "data": {
      "application/vnd.microsoft.datawrangler.viewer.v0+json": {
       "columns": [
        {
         "name": "id_order",
         "rawType": "int64",
         "type": "integer"
        },
        {
         "name": "Order Detail",
         "rawType": "int64",
         "type": "integer"
        }
       ],
       "ref": "ce008ffa-0eb1-4095-9eee-caca3afec271",
       "rows": [
        [
         "357802",
         "2"
        ],
        [
         "357803",
         "2"
        ],
        [
         "357804",
         "3"
        ],
        [
         "357806",
         "1"
        ],
        [
         "357808",
         "3"
        ],
        [
         "357810",
         "4"
        ],
        [
         "357812",
         "1"
        ],
        [
         "357813",
         "3"
        ],
        [
         "357814",
         "1"
        ],
        [
         "357815",
         "3"
        ],
        [
         "357817",
         "1"
        ],
        [
         "357818",
         "1"
        ],
        [
         "357820",
         "3"
        ],
        [
         "357822",
         "3"
        ],
        [
         "357825",
         "2"
        ],
        [
         "357826",
         "1"
        ],
        [
         "357827",
         "1"
        ],
        [
         "357828",
         "2"
        ],
        [
         "357829",
         "3"
        ],
        [
         "357830",
         "2"
        ],
        [
         "357832",
         "1"
        ],
        [
         "357833",
         "4"
        ],
        [
         "357834",
         "1"
        ],
        [
         "357836",
         "1"
        ],
        [
         "357837",
         "2"
        ],
        [
         "357840",
         "2"
        ],
        [
         "357841",
         "3"
        ],
        [
         "357845",
         "1"
        ],
        [
         "357846",
         "2"
        ],
        [
         "357847",
         "1"
        ],
        [
         "357849",
         "2"
        ],
        [
         "357850",
         "2"
        ],
        [
         "357851",
         "1"
        ],
        [
         "357852",
         "1"
        ],
        [
         "357853",
         "2"
        ],
        [
         "357854",
         "2"
        ],
        [
         "357855",
         "1"
        ],
        [
         "357856",
         "1"
        ],
        [
         "357857",
         "2"
        ],
        [
         "357860",
         "1"
        ],
        [
         "357863",
         "1"
        ],
        [
         "357864",
         "1"
        ],
        [
         "357867",
         "2"
        ],
        [
         "357868",
         "1"
        ],
        [
         "357870",
         "2"
        ],
        [
         "357871",
         "1"
        ],
        [
         "357873",
         "1"
        ],
        [
         "357874",
         "1"
        ],
        [
         "357876",
         "1"
        ],
        [
         "357878",
         "1"
        ]
       ],
       "shape": {
        "columns": 1,
        "rows": 224231
       }
      },
      "text/plain": [
       "id_order\n",
       "357802    2\n",
       "357803    2\n",
       "357804    3\n",
       "357806    1\n",
       "357808    3\n",
       "         ..\n",
       "770930    2\n",
       "770932    1\n",
       "770936    2\n",
       "770937    3\n",
       "770938    3\n",
       "Name: Order Detail, Length: 224231, dtype: int64"
      ]
     },
     "metadata": {},
     "output_type": "display_data"
    }
   ],
   "source": [
    "# Average number of items per order\n",
    "\n",
    "df2 = df.groupby('id_order')['Order Detail'].count()\n",
    "\n",
    "display(df2)"
   ]
  },
  {
   "cell_type": "code",
   "execution_count": 19,
   "id": "2e156ea3",
   "metadata": {},
   "outputs": [
    {
     "name": "stdout",
     "output_type": "stream",
     "text": [
      "average number of items per order: 1.753249996655235\n"
     ]
    }
   ],
   "source": [
    "print(f'average number of items per order: {df2.mean()}')"
   ]
  },
  {
   "cell_type": "code",
   "execution_count": 20,
   "id": "fe5257e4",
   "metadata": {},
   "outputs": [
    {
     "name": "stdout",
     "output_type": "stream",
     "text": [
      "Date\n",
      "5     3409718.38\n",
      "6     3324650.89\n",
      "7     4421839.38\n",
      "8     4091324.83\n",
      "9     3352992.34\n",
      "10    3216960.86\n",
      "11    6223889.44\n",
      "12    7428476.87\n",
      "Name: price, dtype: float64\n",
      "\n",
      "Best month in 2023: December with 7428476.87 euros\n"
     ]
    }
   ],
   "source": [
    "# month with highest revenue \n",
    "\n",
    "import calendar\n",
    "\n",
    "df['Date'] = pd.to_datetime(df['Date']) \n",
    "\n",
    "df_2023 = df[df['Date'].dt.year == 2023] \n",
    "\n",
    "monthly_sales = df_2023.groupby(df_2023['Date'].dt.month)['price'].sum()\n",
    "\n",
    "# Find best month\n",
    "best_month = monthly_sales.idxmax()\n",
    "best_value = monthly_sales.max()\n",
    "best_month_name = calendar.month_name[best_month]\n",
    "\n",
    "print(monthly_sales)\n",
    "print(f\"\\nBest month in 2023: {best_month_name} with {best_value} euros\")\n"
   ]
  },
  {
   "cell_type": "code",
   "execution_count": 21,
   "id": "456672ef",
   "metadata": {},
   "outputs": [
    {
     "name": "stdout",
     "output_type": "stream",
     "text": [
      "1409 distinct products offered\n"
     ]
    }
   ],
   "source": [
    "# number of distinct products offered in store\n",
    "\n",
    "print(f'{df['Product Name'].nunique()} distinct products offered')"
   ]
  },
  {
   "cell_type": "code",
   "execution_count": 22,
   "id": "91a738c9",
   "metadata": {},
   "outputs": [
    {
     "name": "stdout",
     "output_type": "stream",
     "text": [
      "71 distinct sub-categories\n"
     ]
    }
   ],
   "source": [
    "# number of sub-categories\n",
    "\n",
    "subset = df['Product Name'].str.split().str[0]\n",
    "\n",
    "print(f'{subset.nunique()} distinct sub-categories')\n"
   ]
  },
  {
   "cell_type": "code",
   "execution_count": 23,
   "id": "0388fc3e",
   "metadata": {},
   "outputs": [
    {
     "name": "stdout",
     "output_type": "stream",
     "text": [
      "distinct iphones in smartphone category:\n",
      "\n",
      "['iPhone 11' 'iPhone 12' 'iPhone 13' 'iPhone 14' 'iPhone 15' 'iPhone 5'\n",
      " 'iPhone 5C' 'iPhone 5S' 'iPhone 6' 'iPhone 6S' 'iPhone 7' 'iPhone 8'\n",
      " 'iPhone SE' 'iPhone X' 'iPhone XR' 'iPhone XS' 'iPhone Xr' 'iPhone Xs'\n",
      " 'iphone 11']\n"
     ]
    }
   ],
   "source": [
    "# iPhone products \n",
    "\n",
    "subset_iPhone = df[df['Product Name'].str.lower().str.startswith('iphone')]['Product Name'].unique()\n",
    "\n",
    "\n",
    "import numpy as np\n",
    "\n",
    "reduced_iPhone = np.array([\" \".join(s.split()[:2]) for s in subset_iPhone])\n",
    "\n",
    "unique_reduced_iPhone = np.unique(reduced_iPhone)\n",
    "\n",
    "print('distinct iphones in smartphone category:\\n')\n",
    "print(unique_reduced_iPhone)"
   ]
  },
  {
   "cell_type": "code",
   "execution_count": 24,
   "id": "b9f5387c",
   "metadata": {},
   "outputs": [
    {
     "name": "stdout",
     "output_type": "stream",
     "text": [
      "distinct samsungs in smartphone category:\n",
      "\n",
      "['Samsung A51 128 go' 'Samsung Galaxy A32 Go' 'Samsung Galaxy A50 64go'\n",
      " 'Samsung Galaxy A52 128' 'Samsung Galaxy Buds Argent'\n",
      " 'Samsung Galaxy Buds Blanc' 'Samsung Galaxy Buds Jaune'\n",
      " 'Samsung Galaxy Buds Noir' 'Samsung Galaxy Buds+ Blanc'\n",
      " 'Samsung Galaxy Buds+ Bleu' 'Samsung Galaxy Buds+ Noir'\n",
      " 'Samsung Galaxy Buds+ Rose' 'Samsung Galaxy Buds+ Rouge'\n",
      " 'Samsung Galaxy J3 16' 'Samsung Galaxy J3 noir' 'Samsung Galaxy Note 10'\n",
      " 'Samsung Galaxy Note 9' 'Samsung Galaxy S10 128'\n",
      " 'Samsung Galaxy S10 Bleu' 'Samsung Galaxy S10 Corail'\n",
      " 'Samsung Galaxy S10 Edge' 'Samsung Galaxy S10 Noir'\n",
      " 'Samsung Galaxy S10 Plus' 'Samsung Galaxy S10 corail'\n",
      " 'Samsung Galaxy S10 plus' 'Samsung Galaxy S10e Blanc'\n",
      " 'Samsung Galaxy S20 128' 'Samsung Galaxy S20 Plus'\n",
      " 'Samsung Galaxy S21 128' 'Samsung Galaxy S21 Plus'\n",
      " 'Samsung Galaxy S22 128' 'Samsung Galaxy S22 256' 'Samsung Galaxy S6 32'\n",
      " 'Samsung Galaxy S7 32' 'Samsung Galaxy S7 Edge' 'Samsung Galaxy S7 edge'\n",
      " 'Samsung Galaxy S8 64' 'Samsung Galaxy S8 Plus' 'Samsung Galaxy S8 Sans'\n",
      " 'Samsung Galaxy S9 64' 'Samsung Galaxy S9 Plus' 'Samsung Galaxy S9+ 64']\n"
     ]
    }
   ],
   "source": [
    "# Samsung smartphone products\n",
    "\n",
    "subset_Samsung = df[df['Product Name'].str.lower().str.startswith('samsung')]['Product Name'].unique()\n",
    "\n",
    "reduced_Samsung = np.array([\" \".join(s.split()[:4]) for s in subset_Samsung])\n",
    "\n",
    "unique_reduced_Samsung = np.unique(reduced_Samsung)\n",
    "\n",
    "print('distinct samsungs in smartphone category:\\n')\n",
    "print(unique_reduced_Samsung)"
   ]
  },
  {
   "cell_type": "code",
   "execution_count": 25,
   "id": "4636d84d",
   "metadata": {},
   "outputs": [
    {
     "name": "stdout",
     "output_type": "stream",
     "text": [
      "   Product Name   Count\n",
      "0        iPhone  222328\n",
      "1          Pack   93661\n",
      "2      Batterie   35010\n",
      "3      Chargeur    7540\n",
      "4         Vitre    6177\n",
      "..          ...     ...\n",
      "66        Porte       1\n",
      "67         port       1\n",
      "68          Mon       1\n",
      "69   Reparación       1\n",
      "70         Jean       1\n",
      "\n",
      "[71 rows x 2 columns]\n"
     ]
    }
   ],
   "source": [
    "# identification of categories and sub-categories\n",
    "\n",
    "counts = subset.value_counts().reset_index()\n",
    "counts.columns = ['Product Name', 'Count']\n",
    "print(counts)\n"
   ]
  },
  {
   "cell_type": "code",
   "execution_count": 26,
   "id": "1562a0e1",
   "metadata": {},
   "outputs": [
    {
     "data": {
      "application/vnd.microsoft.datawrangler.viewer.v0+json": {
       "columns": [
        {
         "name": "index",
         "rawType": "int64",
         "type": "integer"
        },
        {
         "name": "Product Name",
         "rawType": "object",
         "type": "string"
        }
       ],
       "ref": "f9ca3cd8-6cb5-4b6f-a034-5f770e0d3566",
       "rows": [
        [
         "0",
         "iPhone"
        ],
        [
         "1",
         "iPhone"
        ],
        [
         "2",
         "iPhone"
        ],
        [
         "3",
         "iPhone"
        ],
        [
         "4",
         "Pack"
        ],
        [
         "5",
         "iPhone"
        ],
        [
         "6",
         "Pack"
        ],
        [
         "7",
         "Chargeur"
        ],
        [
         "8",
         "Ecouteurs"
        ],
        [
         "9",
         "iPhone"
        ],
        [
         "10",
         "iPhone"
        ],
        [
         "11",
         "iPhone"
        ],
        [
         "12",
         "iPhone"
        ],
        [
         "13",
         "iPhone"
        ],
        [
         "14",
         "Vitre"
        ],
        [
         "15",
         "iPhone"
        ],
        [
         "16",
         "Pack"
        ],
        [
         "17",
         "Pack"
        ],
        [
         "18",
         "iPhone"
        ],
        [
         "19",
         "iPhone"
        ],
        [
         "20",
         "iPhone"
        ],
        [
         "21",
         "iPhone"
        ],
        [
         "22",
         "iPhone"
        ],
        [
         "23",
         "Pack"
        ],
        [
         "24",
         "Chargeur"
        ],
        [
         "25",
         "iPhone"
        ],
        [
         "26",
         "iPhone"
        ],
        [
         "27",
         "iPhone"
        ],
        [
         "28",
         "Pack"
        ],
        [
         "29",
         "iPhone"
        ],
        [
         "30",
         "iPhone"
        ],
        [
         "31",
         "Pack"
        ],
        [
         "32",
         "Chargeur"
        ],
        [
         "33",
         "iPhone"
        ],
        [
         "34",
         "Pack"
        ],
        [
         "35",
         "iPhone"
        ],
        [
         "36",
         "iPhone"
        ],
        [
         "37",
         "Pack"
        ],
        [
         "38",
         "iPhone"
        ],
        [
         "39",
         "Pack"
        ],
        [
         "40",
         "Pack"
        ],
        [
         "41",
         "iPhone"
        ],
        [
         "42",
         "Chargeur"
        ],
        [
         "43",
         "Pack"
        ],
        [
         "44",
         "iPhone"
        ],
        [
         "45",
         "Pack"
        ],
        [
         "46",
         "iphone"
        ],
        [
         "47",
         "Pack"
        ],
        [
         "48",
         "iPhone"
        ],
        [
         "49",
         "Pack"
        ]
       ],
       "shape": {
        "columns": 1,
        "rows": 393133
       }
      },
      "text/plain": [
       "0           iPhone\n",
       "1           iPhone\n",
       "2           iPhone\n",
       "3           iPhone\n",
       "4             Pack\n",
       "            ...   \n",
       "487673      iPhone\n",
       "487674    Batterie\n",
       "487675        Pack\n",
       "487676      iPhone\n",
       "487677      iPhone\n",
       "Name: Product Name, Length: 393133, dtype: object"
      ]
     },
     "metadata": {},
     "output_type": "display_data"
    }
   ],
   "source": [
    "display(subset)"
   ]
  },
  {
   "cell_type": "code",
   "execution_count": 27,
   "id": "412611ee",
   "metadata": {},
   "outputs": [],
   "source": [
    "# keyword category mapping with priority\n",
    "\n",
    "keyword_priority = [\n",
    "('Batterie', 'Accessories'),\n",
    " ('Chargeur','Accessories'),\n",
    " ('Vitre','Accessories'),\n",
    " ('Housse','Accessories'),\n",
    " ('Clip','Accessories'),\n",
    " ('Cable','Accessories'),\n",
    " ('Câble','Accessories'),\n",
    " ('Coque','Accessories'),\n",
    " ('Ecran','Accessories'),\n",
    " ('Prise','Accessories'),\n",
    " ('Écran','Accessories'),\n",
    " ('e-Carte','Accessories'),\n",
    " ('Tag','Accessories'),\n",
    " ('Caméra','Accessories'),\n",
    " ('écran','Accessories'),\n",
    " ('Anneau','Accessories'),\n",
    " ('châssis','Accessories'),\n",
    " ('chassis','Accessories'),\n",
    " ('ecran','Accessories'),\n",
    " ('Airpods','Headphones and Speakers'),\n",
    " ('Buds','Headphones and Speakers'),\n",
    " ('Écouteurs','Headphones and Speakers'),\n",
    " ('Ecouteurs','Headphones and Speakers'),\n",
    " ('Mini-Enceinte','Headphones and Speakers'),\n",
    " ('enceinte','Headphones and Speakers'),\n",
    " ('iphone','smartphone'),\n",
    " ('samsung','smartphone'),\n",
    " ('pack','promotion'),\n",
    " ('option','promotion'),\n",
    " ('lien','promotion'),\n",
    " ('certiprime','promotion'),\n",
    " ('porte','promotion'),\n",
    " ('mon','promotion'),\n",
    " ('garantie','insurance'),\n",
    " ('extension','insurance'),\n",
    " ('assurance','insurance'),\n",
    " ('caution','insurance'),\n",
    " ('ipad','tablet'),\n",
    " ('Mac','laptop'),\n",
    " ('tv','streaming device'),\n",
    " ('watch','smart watch'),\n",
    " ('reparation','service'),\n",
    " ('support','service'),\n",
    " ('Réparation','service'),\n",
    " ('frais','service'),\n",
    " ('upgrade','service'),\n",
    " ('Désoxydation','service'),\n",
    " ('Reparación','service'),\n",
    " ('colis','other'),\n",
    " ('commande','other'),\n",
    " ('slot','other'),\n",
    " ('Alphadepanordi','other'),\n",
    " ('regule','other'),\n",
    " ('Complément','other'),\n",
    " ('Conmigo','other'),\n",
    " ('Alex','other'),\n",
    " ('9','other'),\n",
    " ('wth','other'),\n",
    " ('12','other'),\n",
    " ('3','other'),\n",
    " ('bouton','other'),\n",
    " ('cambio','other'),\n",
    " ('port','other'),\n",
    " ('jean','other'),\n",
    "\n",
    " ]"
   ]
  },
  {
   "cell_type": "code",
   "execution_count": 28,
   "id": "0155697b",
   "metadata": {},
   "outputs": [
    {
     "name": "stdout",
     "output_type": "stream",
     "text": [
      "        id_order  Order Detail                         Product Name   price  \\\n",
      "0         403735        598020          iPhone 8 64 Go Gris sidéral  128.63   \n",
      "1         403734        598019          iPhone 8 64 Go Gris sidéral  128.63   \n",
      "2         403732        598017                iPhone XR 64 Go Noir   241.36   \n",
      "3         403731        598015  iPhone 6S Plus 128 Go Gris sidéral   204.90   \n",
      "4         403731        598016                Pack Zen (PROMO -10€)   24.90   \n",
      "...          ...           ...                                  ...     ...   \n",
      "487673    684890       1117694                iPhone 11 64 Go Noir   256.66   \n",
      "487674    684890       1117695                       Batterie neuve   24.17   \n",
      "487675    684890       1117696               Pack Zen Plus (OFFERT)    0.00   \n",
      "487676    684889       1117693              iPhone 11 128 Go Mauve   314.16   \n",
      "487677    684888       1117692           iPhone 12 mini 128 Go Vert  294.16   \n",
      "\n",
      "               Grade                Date                          Customer  \\\n",
      "0            Correct 2022-04-30 23:50:36  a5ec0747e94e2e9821ef21dc44a0deff   \n",
      "1            Correct 2022-04-30 23:49:49  7012ae5374deca856d604023ae7a3a77   \n",
      "2            Correct 2022-04-30 23:42:53  367eee4f3ad73fbc15d5c1858c76c9da   \n",
      "3       Parfait état 2022-04-30 23:39:19  47063f7d92240e867f39c96450011148   \n",
      "4                NaN 2022-04-30 23:39:19  47063f7d92240e867f39c96450011148   \n",
      "...              ...                 ...                               ...   \n",
      "487673       Correct 2023-09-01 00:10:59  f3cc158058db5cf6f3390b2fa510fcdf   \n",
      "487674           NaN 2023-09-01 00:10:59  f3cc158058db5cf6f3390b2fa510fcdf   \n",
      "487675           NaN 2023-09-01 00:10:59  f3cc158058db5cf6f3390b2fa510fcdf   \n",
      "487676  Parfait état 2023-09-01 00:05:53  83499ca246bf5c95cbdfded263609abe   \n",
      "487677       Correct 2023-09-01 00:02:53  189f0458dd14526c023dbef3476d61f3   \n",
      "\n",
      "           Category  \n",
      "0        smartphone  \n",
      "1        smartphone  \n",
      "2        smartphone  \n",
      "3        smartphone  \n",
      "4         promotion  \n",
      "...             ...  \n",
      "487673   smartphone  \n",
      "487674  Accessories  \n",
      "487675    promotion  \n",
      "487676   smartphone  \n",
      "487677   smartphone  \n",
      "\n",
      "[393133 rows x 8 columns]\n"
     ]
    }
   ],
   "source": [
    "# Adding category column to dataframe\n",
    "\n",
    "def assign_category(product_name):\n",
    "    for keyword, category in keyword_priority:  #\n",
    "        if keyword.lower() in product_name.lower():\n",
    "            return category\n",
    "    return \"other\"\n",
    "\n",
    "df[\"Category\"] = df[\"Product Name\"].apply(assign_category) \n",
    "\n",
    "print(df)"
   ]
  },
  {
   "cell_type": "code",
   "execution_count": 29,
   "id": "0bbef9a3",
   "metadata": {},
   "outputs": [
    {
     "name": "stdout",
     "output_type": "stream",
     "text": [
      "                   Category  Unique Product Count\n",
      "8                smartphone                   916\n",
      "10                   tablet                   175\n",
      "0               Accessories                   134\n",
      "5                 promotion                    84\n",
      "1   Headphones and Speakers                    36\n",
      "4                     other                    24\n",
      "2                 insurance                    11\n",
      "7               smart watch                    10\n",
      "9          streaming device                     9\n",
      "6                   service                     8\n",
      "3                    laptop                     2\n"
     ]
    }
   ],
   "source": [
    "category_counts = df.groupby(\"Category\")[\"Product Name\"].nunique().reset_index(name=\"Unique Product Count\").sort_values(by=\"Unique Product Count\", ascending=False)\n",
    "print(category_counts)\n"
   ]
  },
  {
   "cell_type": "code",
   "execution_count": 30,
   "id": "97cbdccd",
   "metadata": {},
   "outputs": [
    {
     "name": "stdout",
     "output_type": "stream",
     "text": [
      "Category\n",
      "smartphone                 78649251.38\n",
      "promotion                   2297272.74\n",
      "Accessories                 1327802.16\n",
      "tablet                       231818.29\n",
      "Headphones and Speakers      210351.88\n",
      "other                         65198.64\n",
      "insurance                     55254.87\n",
      "service                       21909.76\n",
      "laptop                        12461.00\n",
      "smart watch                    8304.57\n",
      "streaming device               4111.83\n",
      "Name: price, dtype: float64\n"
     ]
    }
   ],
   "source": [
    "# sales per category\n",
    "\n",
    "sales_per_category = df.groupby('Category')['price'].sum().sort_values(ascending=False)\n",
    "print(sales_per_category)"
   ]
  },
  {
   "cell_type": "code",
   "execution_count": 31,
   "id": "d26ce009",
   "metadata": {},
   "outputs": [
    {
     "name": "stdout",
     "output_type": "stream",
     "text": [
      "                                          Product Name  Total_Sales  Count\n",
      "0                                iPhone 11 64 Go Noir    4539025.38  12706\n",
      "1                               iPhone 11 128 Go Noir    2088060.58   5087\n",
      "2                                iPhone 12 128 Go Bleu   2045238.67   4457\n",
      "3                                 iPhone 12 64 Go Bleu   1965857.18   4735\n",
      "4                                 iPhone 12 64 Go Noir   1927614.56   4462\n",
      "..                                                 ...          ...    ...\n",
      "911  iPhone SE 2016 32 Go - Correct - Bouton Home H...        77.50      1\n",
      "912  iPhone 6S 16 Go - Correct - Bouton Home HS (Co...        74.17      1\n",
      "913           iPhone 6 16go Bon état (offre solidaire)        50.00      1\n",
      "914                              iPhone 5C 8 Go Blanc         34.90      1\n",
      "915        Lien de paiement Easy Deal - envoi iPhone X         1.00      1\n",
      "\n",
      "[916 rows x 3 columns]\n",
      "\n",
      "best selling smartphone is the iPhone 11 64 Go Noir \n"
     ]
    }
   ],
   "source": [
    "# ranking of smartphone sales\n",
    "\n",
    "smartphone_sales = (\n",
    "    df[df[\"Category\"] == \"smartphone\"]       \n",
    "      .groupby(\"Product Name\")[\"price\"]      \n",
    "      .agg(Total_Sales=\"sum\", Count=\"count\")\n",
    "      .sort_values(by='Total_Sales',ascending=False)\n",
    "      .reset_index()\n",
    ")\n",
    "\n",
    "print(f'{smartphone_sales}\\n')\n",
    "print(f'best selling smartphone is the {smartphone_sales.iloc[0, 0]}')\n"
   ]
  },
  {
   "cell_type": "code",
   "execution_count": 32,
   "id": "5cab5c3c",
   "metadata": {},
   "outputs": [
    {
     "name": "stdout",
     "output_type": "stream",
     "text": [
      " online store served 83831 unique customers\n"
     ]
    }
   ],
   "source": [
    "# number of unique customers in 2023\n",
    "\n",
    "print(f' online store served {df_2023['Customer'].nunique()} unique customers')"
   ]
  },
  {
   "cell_type": "code",
   "execution_count": 33,
   "id": "84f0eb69",
   "metadata": {},
   "outputs": [
    {
     "data": {
      "application/vnd.microsoft.datawrangler.viewer.v0+json": {
       "columns": [
        {
         "name": "Customer",
         "rawType": "object",
         "type": "string"
        },
        {
         "name": "price",
         "rawType": "float64",
         "type": "float"
        }
       ],
       "ref": "30bdf979-c358-490b-a919-cadccdd7cd94",
       "rows": [
        [
         "498159634ea71c4d17c307065a510870",
         "587353.35"
        ],
        [
         "613b0b5e5ae52b51c29b7b8847f3cbd1",
         "27664.43"
        ],
        [
         "a5d68a006a7edd0eac4a204d046498a7",
         "17094.989999999998"
        ],
        [
         "1b96d815f4550b763bae70de4b06d242",
         "15387.95"
        ],
        [
         "f91fc4606a37e55e1392e98c5e1e755b",
         "13549.550000000001"
        ],
        [
         "2352108948802cda4a8d525c9db70095",
         "11200.0"
        ],
        [
         "f140790c25e1719ce9c574eab176d6bf",
         "10993.130000000001"
        ],
        [
         "2085dcb294406eb0146a0245937bee12",
         "10493.050000000001"
        ],
        [
         "ecd19d1608bfbcaeedf6db420d5a942d",
         "10234.76"
        ],
        [
         "b85827f8265a719abf9327e9f6371da0",
         "7875.65"
        ],
        [
         "0b84000bf2d3947f73586af65e2cbcac",
         "7625.66"
        ],
        [
         "bf92cb141da1532fc7b6b8f557bbbc56",
         "6462.3"
        ],
        [
         "6b54f1f0e3dd35236aea8ba48354d3eb",
         "6333.200000000001"
        ],
        [
         "892f2281e9fa21bd5e338121a75ce783",
         "6098.22"
        ],
        [
         "eb8bd4b38a90c5d3a151168cbc71edf3",
         "5837.31"
        ],
        [
         "4be69b63dbb639e36979d64e1629a78c",
         "5577.46"
        ],
        [
         "e944c4b272e01680b0c3f50d01ca8af3",
         "5236.42"
        ],
        [
         "a8d53ba3e3862ab8c288e03a2a4803e9",
         "4811.54"
        ],
        [
         "5f304d20e231f5dde432b72f1b5ebd0f",
         "4776.52"
        ],
        [
         "7fc6c4838f4af0b7c00c174dd44a3b22",
         "4450.74"
        ],
        [
         "db576a15ac15b2a4084ce6102ad0a030",
         "4433.18"
        ],
        [
         "32da4bed00f7deb2b2c41a7061d44b3a",
         "4410.27"
        ],
        [
         "48e520d54cf158518e2d4351ca5e0b84",
         "4403.25"
        ],
        [
         "14f3e8dd196eb467670cf1aba6496c7d",
         "4239.9"
        ],
        [
         "00ff43ecec308a3932ef8e7ec32b7f2f",
         "4224.94"
        ],
        [
         "5c371ae23f3560dc7fa3dc7b3a1ed824",
         "4189.8"
        ],
        [
         "0cdb7bbfbac6bde75a457d58fbb96b95",
         "4167.78"
        ],
        [
         "963b55c2b9026386caa5ba9eb13b06ad",
         "4089.78"
        ],
        [
         "283ffe6c3c6e3ddab7c47e0f79c04bd6",
         "4051.51"
        ],
        [
         "ac46e1df076bc0e7b558999bad32feb2",
         "4035.2799999999997"
        ],
        [
         "846ce1d8be99272818d092d20c159158",
         "3997.2400000000002"
        ],
        [
         "422b5009532a05bf43a78934b69850a0",
         "3987.37"
        ],
        [
         "ddc687d1ee28d9f768e6a1e26ec0fb07",
         "3966.59"
        ],
        [
         "bb1bb3204ed55764381c2102ccfc6c7a",
         "3959.53"
        ],
        [
         "a9a4b911ce26b5279be83c74521d7665",
         "3952.01"
        ],
        [
         "b0eb8a5014c5e5f85ab6e54faa6dca93",
         "3931.48"
        ],
        [
         "33e76c33edc26369602835ae00dd0e31",
         "3838.21"
        ],
        [
         "9c92b55f1c5c208790bf1cfb33a085f5",
         "3809.5299999999997"
        ],
        [
         "0726a2b774b9b41745398b5872e0a72e",
         "3783.12"
        ],
        [
         "8cc5128cf24191028ef5daea03a1fa6c",
         "3777.37"
        ],
        [
         "59b50beb491abac1b1ab7742593238b0",
         "3722.4700000000003"
        ],
        [
         "328bd99b4616b8ebe0b69d25e94388da",
         "3708.75"
        ],
        [
         "d6f90f883bb5e82deb8ed9ff3424679e",
         "3689.91"
        ],
        [
         "016d5047e99f4c05eea1be95e13091f8",
         "3666.62"
        ],
        [
         "8ae7624d210d0987b65ee9471cb51de3",
         "3608.3"
        ],
        [
         "2c0d013ed3818b557608315708f57d3a",
         "3459.9700000000003"
        ],
        [
         "af188532d398aeb2d4db17656fb68ec9",
         "3441.58"
        ],
        [
         "d0993a864fdf522255440d46e3c59b61",
         "3287.9700000000003"
        ],
        [
         "44bddbf8c761cc1f6923c23f94702482",
         "3238.02"
        ],
        [
         "aa6e6798e2d194cb19e00821b1b34783",
         "3229.11"
        ]
       ],
       "shape": {
        "columns": 1,
        "rows": 83831
       }
      },
      "text/plain": [
       "Customer\n",
       "498159634ea71c4d17c307065a510870    587353.35\n",
       "613b0b5e5ae52b51c29b7b8847f3cbd1     27664.43\n",
       "a5d68a006a7edd0eac4a204d046498a7     17094.99\n",
       "1b96d815f4550b763bae70de4b06d242     15387.95\n",
       "f91fc4606a37e55e1392e98c5e1e755b     13549.55\n",
       "                                      ...    \n",
       "ff72bee2bbc6d1b20f8728e4878114dc         0.83\n",
       "f642c7911d0628b60fce1cec351e30bc         0.83\n",
       "b79eef9a3e9b294b979d47b2cede87d3         0.83\n",
       "2f54300d4ea8c544246433629579e445         0.83\n",
       "8e461310a45e21409baf03119a51e9c1         0.83\n",
       "Name: price, Length: 83831, dtype: float64"
      ]
     },
     "metadata": {},
     "output_type": "display_data"
    },
    {
     "name": "stdout",
     "output_type": "stream",
     "text": [
      "\n",
      "ID corresponding to the largest customer is 498159634ea71c4d17c307065a510870\n"
     ]
    }
   ],
   "source": [
    "# largest customer\n",
    "\n",
    "largest_customer = df_2023.groupby('Customer')['price'].sum().sort_values(ascending=False)\n",
    "\n",
    "display(largest_customer)\n",
    "print()\n",
    "print(f'ID corresponding to the largest customer is {largest_customer.index[0]}')"
   ]
  },
  {
   "cell_type": "code",
   "execution_count": 34,
   "id": "e6fd8c28",
   "metadata": {},
   "outputs": [
    {
     "name": "stdout",
     "output_type": "stream",
     "text": [
      "number of unique grades in Grade column is 6\n"
     ]
    }
   ],
   "source": [
    "print(f'number of unique grades in Grade column is {df[df['Category'] == 'smartphone']['Grade'].nunique()}')"
   ]
  },
  {
   "cell_type": "code",
   "execution_count": 35,
   "id": "5a6385ef",
   "metadata": {},
   "outputs": [
    {
     "name": "stdout",
     "output_type": "stream",
     "text": [
      "                   Category  Unique_Grades per category\n",
      "0                smartphone                           6\n",
      "1   Headphones and Speakers                           3\n",
      "2                    tablet                           3\n",
      "3               Accessories                           2\n",
      "4                    laptop                           2\n",
      "5                     other                           2\n",
      "6                 promotion                           2\n",
      "7               smart watch                           2\n",
      "8          streaming device                           2\n",
      "9                 insurance                           0\n",
      "10                  service                           0\n"
     ]
    }
   ],
   "source": [
    "# grades per category table\n",
    "\n",
    "unique_grades_per_category = df.groupby(\"Category\")[\"Grade\"].nunique().sort_values(ascending=False).reset_index(name=\"Unique_Grades per category\")\n",
    "print(unique_grades_per_category)\n"
   ]
  },
  {
   "cell_type": "code",
   "execution_count": 36,
   "id": "f17dfe01",
   "metadata": {},
   "outputs": [
    {
     "name": "stdout",
     "output_type": "stream",
     "text": [
      "list of unique grades: ['Correct' 'Parfait état' nan 'Premium' 'Très bon état' 'Neuf'\n",
      " 'Reconditionné']\n"
     ]
    }
   ],
   "source": [
    "unique_grades = df['Grade'].unique()\n",
    "print(f'list of unique grades: {unique_grades}')"
   ]
  },
  {
   "cell_type": "code",
   "execution_count": 37,
   "id": "3ab88300",
   "metadata": {},
   "outputs": [
    {
     "name": "stdout",
     "output_type": "stream",
     "text": [
      "list of unique grades for best-selling iPhone 11: ['Premium' 'Parfait état' 'Correct' 'Très bon état' 'Neuf']\n"
     ]
    }
   ],
   "source": [
    "iphone11_grades = df.loc[df['Product Name']=='iPhone 11 64 Go Noir ','Grade'].unique()\n",
    "print(f'list of unique grades for best-selling iPhone 11: {iphone11_grades}')"
   ]
  },
  {
   "cell_type": "code",
   "execution_count": 38,
   "id": "36955478",
   "metadata": {},
   "outputs": [
    {
     "name": "stdout",
     "output_type": "stream",
     "text": [
      "mean price of neuf grade best-selling iphone 11 is 640.83 euros\n"
     ]
    }
   ],
   "source": [
    "# mean price of best-selling smartphone of the highest grade\n",
    "\n",
    "subset_neuf = df[(df['Product Name'] == 'iPhone 11 64 Go Noir ') & (df['Grade'] == 'Neuf')]\n",
    "mean_subset_neuf = subset_neuf['price'].mean()\n",
    "print(f'mean price of neuf grade best-selling iphone 11 is {mean_subset_neuf} euros')"
   ]
  },
  {
   "cell_type": "code",
   "execution_count": 39,
   "id": "1819068c",
   "metadata": {},
   "outputs": [
    {
     "name": "stdout",
     "output_type": "stream",
     "text": [
      "mean price of correct grade best-selling iphone 11 is 344.0666228693181 euros\n"
     ]
    }
   ],
   "source": [
    "# mean price of best-selling smartphone of lowest grade\n",
    "\n",
    "subset_correct = df[(df['Product Name'] == 'iPhone 11 64 Go Noir ') & (df['Grade'] == 'Correct')]\n",
    "mean_subset_correct = subset_correct['price'].mean()\n",
    "print(f'mean price of correct grade best-selling iphone 11 is {mean_subset_correct} euros')"
   ]
  },
  {
   "cell_type": "code",
   "execution_count": 40,
   "id": "505ac87b",
   "metadata": {},
   "outputs": [
    {
     "name": "stdout",
     "output_type": "stream",
     "text": [
      "price difference b/w highest and lowest grade iphone 11 is 296.76337713068193 euros\n"
     ]
    }
   ],
   "source": [
    "# price difference between the highest grade and lowest grade in best-selling iphone 11 64 go Noir\n",
    "\n",
    "print(f'price difference b/w highest and lowest grade iphone 11 is {mean_subset_neuf - mean_subset_correct} euros')"
   ]
  },
  {
   "cell_type": "code",
   "execution_count": 41,
   "id": "792ee940",
   "metadata": {},
   "outputs": [
    {
     "data": {
      "image/png": "[encoded data removed]",
      "text/plain": [
       "<Figure size 800x500 with 1 Axes>"
      ]
     },
     "metadata": {},
     "output_type": "display_data"
    }
   ],
   "source": [
    "# Units sold per grade bar chart of best-selling iPhone 11\n",
    "\n",
    "model_df = df[df['Product Name'] == 'iPhone 11 64 Go Noir ']\n",
    "\n",
    "import matplotlib.pyplot as plt\n",
    "\n",
    "best_model = 'iPhone 11 64 Go Noir '\n",
    "\n",
    "# units sold per grade\n",
    "grade_counts = model_df['Grade'].value_counts()\n",
    "\n",
    "# Plot\n",
    "plt.figure(figsize=(8,5))\n",
    "grade_counts.plot(kind='bar', color='skyblue')\n",
    "plt.title(f'Units sold per Grade for {best_model}')\n",
    "plt.xlabel('Grade')\n",
    "plt.ylabel('Number of Sales')\n",
    "plt.xticks(rotation=45)\n",
    "plt.show()\n",
    "\n"
   ]
  },
  {
   "cell_type": "code",
   "execution_count": 42,
   "id": "9bcc15aa",
   "metadata": {},
   "outputs": [
    {
     "data": {
      "image/png": "[encoded data removed]",
      "text/plain": [
       "<Figure size 800x600 with 1 Axes>"
      ]
     },
     "metadata": {},
     "output_type": "display_data"
    }
   ],
   "source": [
    "# Price Distribution per Grade for best-selling iPhone 11\n",
    "\n",
    "import seaborn as sns\n",
    "\n",
    "plt.figure(figsize=(8,6))\n",
    "sns.boxplot(x='Grade', y='price', data=model_df)\n",
    "plt.title(f'Price Distribution per Grade for {best_model}')\n",
    "plt.xlabel('Grade')\n",
    "plt.ylabel('Price')\n",
    "plt.show()"
   ]
  },
  {
   "cell_type": "code",
   "execution_count": 43,
   "id": "30f5c00a",
   "metadata": {},
   "outputs": [],
   "source": [
    "# Price Sensitivity Analysis for best-selling iPhone\n",
    "\n",
    "def price_sensitivity(df, product_name, bin_width=50, plot=True):\n",
    "    \"\"\"\n",
    "    Perform price sensitivity analysis for a given product.\n",
    "    Handles Categorical bins safely and computes elasticity.\n",
    "\n",
    "    Parameters:\n",
    "    - df: pandas DataFrame with at least ['Product Name', 'price'] columns\n",
    "    - product_name: str, product to analyze\n",
    "    - bin_width: int, width of price bins\n",
    "    - plot: bool, whether to plot histogram + cumulative sales\n",
    "\n",
    "    Returns:\n",
    "    - price_sales: DataFrame with Price_Bin, Sales_Count, Cumulative_Sales, Price_Mid, Elasticity\n",
    "    \"\"\"\n",
    "    # Filter product\n",
    "    model_df = df[df['Product Name'].str.strip() == product_name.strip()].copy()\n",
    "    if model_df.empty:\n",
    "        print(f\"No data found for product '{product_name}'\")\n",
    "        return None\n",
    "\n",
    "    # Bin prices\n",
    "    min_price = model_df['price'].min()\n",
    "    max_price = model_df['price'].max()\n",
    "    bins = range(int(min_price), int(max_price) + bin_width, bin_width)\n",
    "    model_df['Price_Bin'] = pd.cut(model_df['price'], bins, ordered=True)\n",
    "\n",
    "    # Aggregate sales per bin\n",
    "    price_sales = model_df.groupby('Price_Bin', observed=True).size().reset_index(name='Sales_Count')\n",
    "\n",
    "    # Convert Price_Bin to numeric midpoint\n",
    "    price_sales['Price_Mid'] = price_sales['Price_Bin'].apply(lambda x: x.mid if pd.notnull(x) else None)\n",
    "    price_sales['Price_Mid'] = pd.to_numeric(price_sales['Price_Mid'], errors='coerce')\n",
    "\n",
    "    # Drop rows with NaN Price_Mid (empty bins)\n",
    "    price_sales = price_sales.dropna(subset=['Price_Mid']).reset_index(drop=True)\n",
    "\n",
    "    # Cumulative sales\n",
    "    price_sales['Cumulative_Sales'] = price_sales['Sales_Count'].cumsum()\n",
    "\n",
    "    # Price elasticity\n",
    "    price_sales['Sales_Pct_Change'] = price_sales['Sales_Count'].pct_change()\n",
    "    price_sales['Price_Pct_Change'] = price_sales['Price_Mid'].pct_change()\n",
    "    price_sales['Elasticity'] = price_sales['Sales_Pct_Change'] / price_sales['Price_Pct_Change']\n",
    "\n",
    "    # Plot\n",
    "    if plot:\n",
    "        plt.figure(figsize=(10,6))\n",
    "        plt.bar(price_sales['Price_Bin'].astype(str), price_sales['Sales_Count'], color='skyblue', label='Sales per Bin')\n",
    "        plt.plot(price_sales['Price_Bin'].astype(str), price_sales['Cumulative_Sales'], color='red', marker='o', label='Cumulative Sales')\n",
    "        plt.xticks(rotation=45)\n",
    "        plt.xlabel('Price Range')\n",
    "        plt.ylabel('Number of Sales')\n",
    "        plt.title(f'Price Sensitivity for {product_name}')\n",
    "        plt.legend()\n",
    "        plt.show()\n",
    "\n",
    "    return price_sales\n"
   ]
  },
  {
   "cell_type": "code",
   "execution_count": 44,
   "id": "0a860b23",
   "metadata": {},
   "outputs": [
    {
     "data": {
      "image/png": "[encoded data removed]",
      "text/plain": [
       "<Figure size 1000x600 with 1 Axes>"
      ]
     },
     "metadata": {},
     "output_type": "display_data"
    },
    {
     "name": "stdout",
     "output_type": "stream",
     "text": [
      "    Price_Bin  Sales_Count  Price_Mid  Cumulative_Sales  Sales_Pct_Change  \\\n",
      "0  (239, 289]         2277      264.0              2277               NaN   \n",
      "1  (289, 339]         3018      314.0              5295          0.325428   \n",
      "2  (339, 389]         2173      364.0              7468         -0.279987   \n",
      "3  (389, 439]         4537      414.0             12005          1.087897   \n",
      "4  (439, 489]          536      464.0             12541         -0.881860   \n",
      "5  (489, 539]          145      514.0             12686         -0.729478   \n",
      "6  (639, 689]           20      664.0             12706         -0.862069   \n",
      "\n",
      "   Price_Pct_Change  Elasticity  \n",
      "0               NaN         NaN  \n",
      "1          0.189394    1.718261  \n",
      "2          0.159236   -1.758317  \n",
      "3          0.137363    7.919890  \n",
      "4          0.120773   -7.301803  \n",
      "5          0.107759   -6.769552  \n",
      "6          0.291829   -2.954023  \n"
     ]
    }
   ],
   "source": [
    "result = price_sensitivity(df, \"iPhone 11 64 Go Noir \", bin_width=50)\n",
    "print(result)\n"
   ]
  },
  {
   "cell_type": "markdown",
   "id": "c370a0ec",
   "metadata": {},
   "source": [
    "# 📊 Price Sensitivity Analysis — Insights  \n",
    "\n",
    "## 1️⃣ Bin (239, 289]  \n",
    "- **Sales_Count:** 2277  \n",
    "- **Price_Mid:** 264  \n",
    "- **Cumulative_Sales:** 2277  \n",
    "- **Elasticity:** N/A (first bin)  \n",
    "\n",
    "**Insight:**  \n",
    "This is the lowest price bin, with solid sales. No elasticity yet, but it sets the baseline for sales behavior as price increases.  \n",
    "\n",
    "---\n",
    "\n",
    "## 2️⃣ Bin (289, 339]  \n",
    "- **Sales_Count:** 3018 → **↑ 32.5% vs previous bin**  \n",
    "- **Price_Mid:** 314  \n",
    "- **Elasticity:** 1.72  \n",
    "\n",
    "**Insight:**  \n",
    "Moderate price increase leads to **more sales**, suggesting the product may be perceived as higher value or more desirable at this price.  \n",
    "Elasticity > 1 → sales are price sensitive, but in this case, sales actually **increased with price** (possibly due to anomalies or promotions).  \n",
    "\n",
    "---\n",
    "\n",
    "## 3️⃣ Bin (339, 389]  \n",
    "- **Sales_Count:** 2173 → **↓ ~28%**  \n",
    "- **Price_Mid:** 364  \n",
    "- **Elasticity:** -1.76  \n",
    "\n",
    "**Insight:**  \n",
    "Higher price reduces sales significantly.  \n",
    "Negative elasticity indicates a **normal price-sensitive behavior** (sales drop as price rises).  \n",
    "\n",
    "---\n",
    "\n",
    "## 4️⃣ Bin (389, 439]  \n",
    "- **Sales_Count:** 4537 → **↑ 108%**  \n",
    "- **Price_Mid:** 414  \n",
    "- **Elasticity:** 7.92  \n",
    "\n",
    "**Insight:**  \n",
    "Surprisingly high sales despite higher price.  \n",
    "Could indicate **promotions, bundles, or special events**.  \n",
    "Elasticity is extremely high → small price changes cause **huge swings in sales**.  \n",
    "\n",
    "---\n",
    "\n",
    "## 5️⃣ Bin (439, 489]  \n",
    "- **Sales_Count:** 536 → **↓ ~88%**  \n",
    "- **Price_Mid:** 464  \n",
    "- **Elasticity:** -7.3  \n",
    "\n",
    "**Insight:**  \n",
    "At this high price, most customers avoid the product.  \n",
    "Negative elasticity confirms that higher prices **strongly reduce demand**.  \n",
    "\n",
    "---\n",
    "\n",
    "## 6️⃣ Bin (489, 539]  \n",
    "- **Sales_Count:** 145 → **very low**  \n",
    "- **Price_Mid:** 514  \n",
    "- **Elasticity:** -6.77  \n",
    "\n",
    "**Insight:**  \n",
    "Extremely price-sensitive region.  \n",
    "Only a small segment of customers are willing to pay this much.  \n",
    "\n",
    "---\n",
    "\n",
    "## 7️⃣ Bin (639, 689]  \n",
    "- **Sales_Count:** 20 → **negligible**  \n",
    "- **Price_Mid:** 664  \n",
    "- **Elasticity:** -2.95  \n",
    "\n",
    "**Insight:**  \n",
    "Very high price → almost no demand.  \n",
    "At this range, the product is essentially **out of the market**.  \n",
    "\n",
    "---\n",
    "\n",
    "# 🔹 Key Takeaways  \n",
    "\n",
    "### ✅ Optimal Price Range  \n",
    "- **(289, 339] and (389, 439]** → highest sales volume at moderate-to-high price.  \n",
    "- Bin **(389, 439]** seems anomalous → may have been influenced by **promotions or bulk purchases**.  \n",
    "\n",
    "### ⚖️ Revenue vs Pricing  \n",
    "- Low-price bins sell well but may leave **revenue on the table**.  \n",
    "- High-price bins (439€+) are **too sensitive**, with few sales and negative elasticity.  \n",
    "\n",
    "### 💡 Pricing Strategy  \n",
    "- Focus on bins with **high sales and moderate elasticity** → maximize revenue.  \n",
    "- Avoid bins above **439€**, unless targeting **premium buyers**.  \n",
    "\n",
    "### 📉 Elasticity Analysis  \n",
    "- Large swings in elasticity suggest **unstable demand**.  \n",
    "- Likely influenced by **promotions, stock limitations, or external factors**.  \n"
   ]
  }
 ],
 "metadata": {
  "kernelspec": {
   "display_name": "base",
   "language": "python",
   "name": "python3"
  },
  "language_info": {
   "codemirror_mode": {
    "name": "ipython",
    "version": 3
   },
   "file_extension": ".py",
   "mimetype": "text/x-python",
   "name": "python",
   "nbconvert_exporter": "python",
   "pygments_lexer": "ipython3",
   "version": "3.12.7"
  }
 },
 "nbformat": 4,
 "nbformat_minor": 5
}
